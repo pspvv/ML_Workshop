{
  "cells": [
    {
      "cell_type": "markdown",
      "metadata": {
        "id": "view-in-github",
        "colab_type": "text"
      },
      "source": [
        "<a href=\"https://colab.research.google.com/github/pspvv/ML_Workshop/blob/main/Stroke_Prediction_Classification_Notebook.ipynb\" target=\"_parent\"><img src=\"https://colab.research.google.com/assets/colab-badge.svg\" alt=\"Open In Colab\"/></a>"
      ]
    },
    {
      "cell_type": "markdown",
      "metadata": {
        "id": "wgCEmXvPgJQ5"
      },
      "source": [
        "# Classification Models: Stroke Prediction Dataset\n",
        "This notebook builds multiple classification models to predict the likelihood of a stroke based on demographic, health, and lifestyle data.\n",
        "\n",
        "### Steps:\n",
        "1. Load and explore the dataset.\n",
        "2. Clean and preprocess the data.\n",
        "3. Train the following classification models:\n",
        "   - Logistic Regression\n",
        "   - Naïve Bayes\n",
        "   - KNN\n",
        "   - Decision Tree\n",
        "   - Support Vector Classifier\n",
        "4. Evaluate models using metrics: Accuracy, Precision, Recall, and F1-Score."
      ]
    },
    {
      "cell_type": "code",
      "execution_count": 70,
      "metadata": {
        "id": "UmvP2WGegJQ8"
      },
      "outputs": [],
      "source": [
        "# Import necessary libraries\n",
        "import numpy as np\n",
        "import pandas as pd\n",
        "import seaborn as sns\n",
        "import matplotlib.pyplot as plt\n",
        "from sklearn.model_selection import train_test_split\n",
        "from sklearn.preprocessing import StandardScaler, LabelEncoder\n",
        "from sklearn.metrics import accuracy_score, precision_score, recall_score, f1_score, classification_report, confusion_matrix\n",
        "from sklearn.linear_model import LogisticRegression\n",
        "from sklearn.naive_bayes import GaussianNB\n",
        "from sklearn.neighbors import KNeighborsClassifier\n",
        "from sklearn.tree import DecisionTreeClassifier\n",
        "from sklearn.svm import SVC"
      ]
    },
    {
      "cell_type": "markdown",
      "metadata": {
        "id": "zRrJsm3-gJQ9"
      },
      "source": [
        "## Load the Dataset"
      ]
    },
    {
      "cell_type": "code",
      "source": [
        "# Load the Stroke Prediction dataset\n",
        "file_path = '/content/healthcare-dataset-stroke-data.csv'\n",
        "df = pd.read_csv(file_path)"
      ],
      "metadata": {
        "id": "vL1MeNUKst7M"
      },
      "execution_count": 9,
      "outputs": []
    },
    {
      "cell_type": "markdown",
      "source": [
        "## Exploring the Dataset"
      ],
      "metadata": {
        "id": "79SCzUKgs_fT"
      }
    },
    {
      "cell_type": "code",
      "source": [
        "# Display dataset information\n",
        "print(\"Dataset Shape:\", df.shape)"
      ],
      "metadata": {
        "colab": {
          "base_uri": "https://localhost:8080/"
        },
        "id": "G8PUiUiZsys3",
        "outputId": "be006197-4ab3-4532-8116-4c7f14ff2c4e"
      },
      "execution_count": 10,
      "outputs": [
        {
          "output_type": "stream",
          "name": "stdout",
          "text": [
            "Dataset Shape: (5110, 12)\n"
          ]
        }
      ]
    },
    {
      "cell_type": "code",
      "source": [
        "# Display the first 5 rows of the dataset\n",
        "print(df.head())"
      ],
      "metadata": {
        "colab": {
          "base_uri": "https://localhost:8080/"
        },
        "id": "zPnP3Afzs28A",
        "outputId": "dc1f6e6f-5dc1-4f15-b25a-77600a19eb96"
      },
      "execution_count": 12,
      "outputs": [
        {
          "output_type": "stream",
          "name": "stdout",
          "text": [
            "      id  gender   age  hypertension  heart_disease ever_married  \\\n",
            "0   9046    Male  67.0             0              1          Yes   \n",
            "1  51676  Female  61.0             0              0          Yes   \n",
            "2  31112    Male  80.0             0              1          Yes   \n",
            "3  60182  Female  49.0             0              0          Yes   \n",
            "4   1665  Female  79.0             1              0          Yes   \n",
            "\n",
            "       work_type Residence_type  avg_glucose_level   bmi   smoking_status  \\\n",
            "0        Private          Urban             228.69  36.6  formerly smoked   \n",
            "1  Self-employed          Rural             202.21   NaN     never smoked   \n",
            "2        Private          Rural             105.92  32.5     never smoked   \n",
            "3        Private          Urban             171.23  34.4           smokes   \n",
            "4  Self-employed          Rural             174.12  24.0     never smoked   \n",
            "\n",
            "   stroke  \n",
            "0       1  \n",
            "1       1  \n",
            "2       1  \n",
            "3       1  \n",
            "4       1  \n"
          ]
        }
      ]
    },
    {
      "cell_type": "code",
      "execution_count": 13,
      "metadata": {
        "colab": {
          "base_uri": "https://localhost:8080/"
        },
        "id": "zUdSqXqZgJQ-",
        "outputId": "8987e4b6-cc7d-46e3-aff8-07d321293aa6"
      },
      "outputs": [
        {
          "output_type": "stream",
          "name": "stdout",
          "text": [
            "Dataset Info:\n",
            "<class 'pandas.core.frame.DataFrame'>\n",
            "RangeIndex: 5110 entries, 0 to 5109\n",
            "Data columns (total 12 columns):\n",
            " #   Column             Non-Null Count  Dtype  \n",
            "---  ------             --------------  -----  \n",
            " 0   id                 5110 non-null   int64  \n",
            " 1   gender             5110 non-null   object \n",
            " 2   age                5110 non-null   float64\n",
            " 3   hypertension       5110 non-null   int64  \n",
            " 4   heart_disease      5110 non-null   int64  \n",
            " 5   ever_married       5110 non-null   object \n",
            " 6   work_type          5110 non-null   object \n",
            " 7   Residence_type     5110 non-null   object \n",
            " 8   avg_glucose_level  5110 non-null   float64\n",
            " 9   bmi                4909 non-null   float64\n",
            " 10  smoking_status     5110 non-null   object \n",
            " 11  stroke             5110 non-null   int64  \n",
            "dtypes: float64(3), int64(4), object(5)\n",
            "memory usage: 479.2+ KB\n"
          ]
        }
      ],
      "source": [
        "# Display dataset information\n",
        "print(\"Dataset Info:\")\n",
        "df.info()"
      ]
    },
    {
      "cell_type": "markdown",
      "metadata": {
        "id": "F0p_H2_HgJQ-"
      },
      "source": [
        "## Data Cleaning and Preprocessing"
      ]
    },
    {
      "cell_type": "code",
      "source": [
        "# Check for missing values\n",
        "print(\"Missing Values:\")\n",
        "print(df.isnull().sum())"
      ],
      "metadata": {
        "colab": {
          "base_uri": "https://localhost:8080/"
        },
        "id": "e-1cVb9DtKQO",
        "outputId": "485a29d0-3dca-4bb5-8e21-1df90505612e"
      },
      "execution_count": 14,
      "outputs": [
        {
          "output_type": "stream",
          "name": "stdout",
          "text": [
            "Missing Values:\n",
            "id                     0\n",
            "gender                 0\n",
            "age                    0\n",
            "hypertension           0\n",
            "heart_disease          0\n",
            "ever_married           0\n",
            "work_type              0\n",
            "Residence_type         0\n",
            "avg_glucose_level      0\n",
            "bmi                  201\n",
            "smoking_status         0\n",
            "stroke                 0\n",
            "dtype: int64\n"
          ]
        }
      ]
    },
    {
      "cell_type": "code",
      "source": [
        "## Handling Missing Values\n",
        "# Fill missing values in 'bmi' with the median\n",
        "df['bmi'] = df['bmi'].fillna(df['bmi'].median())"
      ],
      "metadata": {
        "id": "Wpt_STrDtNui"
      },
      "execution_count": 15,
      "outputs": []
    },
    {
      "cell_type": "code",
      "source": [
        "# Verify no missing values remain\n",
        "print(\"Missing Values After Imputation:\")\n",
        "print(df.isnull().sum())"
      ],
      "metadata": {
        "colab": {
          "base_uri": "https://localhost:8080/"
        },
        "id": "300MX6iVtUVt",
        "outputId": "73d76571-b0e8-4015-e5af-3ca33a7ab467"
      },
      "execution_count": 16,
      "outputs": [
        {
          "output_type": "stream",
          "name": "stdout",
          "text": [
            "Missing Values After Imputation:\n",
            "id                   0\n",
            "gender               0\n",
            "age                  0\n",
            "hypertension         0\n",
            "heart_disease        0\n",
            "ever_married         0\n",
            "work_type            0\n",
            "Residence_type       0\n",
            "avg_glucose_level    0\n",
            "bmi                  0\n",
            "smoking_status       0\n",
            "stroke               0\n",
            "dtype: int64\n"
          ]
        }
      ]
    },
    {
      "cell_type": "markdown",
      "source": [
        "## Dropping Irrelevant Columns\n"
      ],
      "metadata": {
        "id": "kSWx-aAOtYRb"
      }
    },
    {
      "cell_type": "code",
      "source": [
        "# Drop the 'id' column\n",
        "df = df.drop(['id'], axis=1)"
      ],
      "metadata": {
        "id": "czBrf-9jtWPE"
      },
      "execution_count": 17,
      "outputs": []
    },
    {
      "cell_type": "code",
      "source": [
        "# Display dataset after dropping the column\n",
        "print(\"Dataset Columns After Dropping Irrelevant Columns:\")\n",
        "print(df.columns)"
      ],
      "metadata": {
        "colab": {
          "base_uri": "https://localhost:8080/"
        },
        "id": "j2e8YmV6tdwM",
        "outputId": "bad22f74-20f3-4ac2-aef7-02a9136e0d71"
      },
      "execution_count": 18,
      "outputs": [
        {
          "output_type": "stream",
          "name": "stdout",
          "text": [
            "Dataset Columns After Dropping Irrelevant Columns:\n",
            "Index(['gender', 'age', 'hypertension', 'heart_disease', 'ever_married',\n",
            "       'work_type', 'Residence_type', 'avg_glucose_level', 'bmi',\n",
            "       'smoking_status', 'stroke'],\n",
            "      dtype='object')\n"
          ]
        }
      ]
    },
    {
      "cell_type": "markdown",
      "source": [
        "## Encoding Categorical Variables\n"
      ],
      "metadata": {
        "id": "jayYYp3HtgAS"
      }
    },
    {
      "cell_type": "code",
      "source": [
        "# Identify categorical columns to encode\n",
        "categorical_cols = ['gender', 'ever_married', 'work_type', 'Residence_type', 'smoking_status']"
      ],
      "metadata": {
        "id": "1b7qO5mRtkFa"
      },
      "execution_count": 19,
      "outputs": []
    },
    {
      "cell_type": "code",
      "source": [
        "# Performing encoding on the categorical columns\n",
        "df = pd.get_dummies(df, columns=categorical_cols)"
      ],
      "metadata": {
        "id": "Ox9pfRCttq1G"
      },
      "execution_count": 20,
      "outputs": []
    },
    {
      "cell_type": "code",
      "source": [
        "# Display dataset after encoding\n",
        "print(\"Dataset After Encoding Categorical Variables:\")\n",
        "print(df.head())"
      ],
      "metadata": {
        "colab": {
          "base_uri": "https://localhost:8080/"
        },
        "id": "zfqbQynJuLHn",
        "outputId": "6b408100-745c-4ad2-ac12-8f720967d2a9"
      },
      "execution_count": 21,
      "outputs": [
        {
          "output_type": "stream",
          "name": "stdout",
          "text": [
            "Dataset After Encoding Categorical Variables:\n",
            "    age  hypertension  heart_disease  avg_glucose_level   bmi  stroke  \\\n",
            "0  67.0             0              1             228.69  36.6       1   \n",
            "1  61.0             0              0             202.21  28.1       1   \n",
            "2  80.0             0              1             105.92  32.5       1   \n",
            "3  49.0             0              0             171.23  34.4       1   \n",
            "4  79.0             1              0             174.12  24.0       1   \n",
            "\n",
            "   gender_Female  gender_Male  gender_Other  ever_married_No  ...  \\\n",
            "0          False         True         False            False  ...   \n",
            "1           True        False         False            False  ...   \n",
            "2          False         True         False            False  ...   \n",
            "3           True        False         False            False  ...   \n",
            "4           True        False         False            False  ...   \n",
            "\n",
            "   work_type_Never_worked  work_type_Private  work_type_Self-employed  \\\n",
            "0                   False               True                    False   \n",
            "1                   False              False                     True   \n",
            "2                   False               True                    False   \n",
            "3                   False               True                    False   \n",
            "4                   False              False                     True   \n",
            "\n",
            "   work_type_children  Residence_type_Rural  Residence_type_Urban  \\\n",
            "0               False                 False                  True   \n",
            "1               False                  True                 False   \n",
            "2               False                  True                 False   \n",
            "3               False                 False                  True   \n",
            "4               False                  True                 False   \n",
            "\n",
            "   smoking_status_Unknown  smoking_status_formerly smoked  \\\n",
            "0                   False                            True   \n",
            "1                   False                           False   \n",
            "2                   False                           False   \n",
            "3                   False                           False   \n",
            "4                   False                           False   \n",
            "\n",
            "   smoking_status_never smoked  smoking_status_smokes  \n",
            "0                        False                  False  \n",
            "1                         True                  False  \n",
            "2                         True                  False  \n",
            "3                        False                   True  \n",
            "4                         True                  False  \n",
            "\n",
            "[5 rows x 22 columns]\n"
          ]
        }
      ]
    },
    {
      "cell_type": "markdown",
      "source": [
        "## Splitting Features and Target\n"
      ],
      "metadata": {
        "id": "M1wUNz9HuRhR"
      }
    },
    {
      "cell_type": "code",
      "execution_count": 29,
      "metadata": {
        "id": "lG2iJIwJgJQ-"
      },
      "outputs": [],
      "source": [
        "# Separate features and target variable\n",
        "X = df.drop('stroke', axis=1)\n",
        "y = df['stroke']"
      ]
    },
    {
      "cell_type": "code",
      "source": [
        "# Display feature and target shapes\n",
        "print(\"Features Shape:\", X.shape)\n",
        "print(\"Target Shape:\", y.shape)"
      ],
      "metadata": {
        "colab": {
          "base_uri": "https://localhost:8080/"
        },
        "id": "E6_zk_doubpM",
        "outputId": "a928c149-cfd9-4683-9a08-77f1bf1d3b55"
      },
      "execution_count": 25,
      "outputs": [
        {
          "output_type": "stream",
          "name": "stdout",
          "text": [
            "Features Shape: (5110, 21)\n",
            "Target Shape: (5110,)\n"
          ]
        }
      ]
    },
    {
      "cell_type": "code",
      "source": [
        "# Fit and transform the features\n",
        "X = scaler.fit_transform(X)"
      ],
      "metadata": {
        "id": "Fk8UZIhMwoF6"
      },
      "execution_count": 32,
      "outputs": []
    },
    {
      "cell_type": "code",
      "source": [
        "# Display a preview of the normalized features\n",
        "print(\"Features After Normalization:\")\n",
        "print(X[:5])"
      ],
      "metadata": {
        "colab": {
          "base_uri": "https://localhost:8080/"
        },
        "id": "GibWu55SxC29",
        "outputId": "ea284df6-2f3e-4107-fb1d-81588002fa78"
      },
      "execution_count": 33,
      "outputs": [
        {
          "output_type": "stream",
          "name": "stdout",
          "text": [
            "Features After Normalization:\n",
            "[[ 1.05143428 -0.32860186  4.18503199  2.70637544  1.00508597 -1.18950991\n",
            "   1.18998977 -0.01399046 -0.72388421  0.72388421 -0.38411064 -0.06575636\n",
            "   0.86429656 -0.43688053 -0.39411222 -0.98407974  0.98407974 -0.65801073\n",
            "   2.1849511  -0.7667743  -0.42731326]\n",
            " [ 0.78607007 -0.32860186 -0.2389468   2.12155854 -0.09898092  0.84068236\n",
            "  -0.84034336 -0.01399046 -0.72388421  0.72388421 -0.38411064 -0.06575636\n",
            "  -1.15701027  2.28895527 -0.39411222  1.01617781 -1.01617781 -0.65801073\n",
            "  -0.45767615  1.30416474 -0.42731326]\n",
            " [ 1.62639008 -0.32860186  4.18503199 -0.0050283   0.47253605 -1.18950991\n",
            "   1.18998977 -0.01399046 -0.72388421  0.72388421 -0.38411064 -0.06575636\n",
            "   0.86429656 -0.43688053 -0.39411222  1.01617781 -1.01617781 -0.65801073\n",
            "  -0.45767615  1.30416474 -0.42731326]\n",
            " [ 0.25534165 -0.32860186 -0.2389468   1.4373581   0.71932748  0.84068236\n",
            "  -0.84034336 -0.01399046 -0.72388421  0.72388421 -0.38411064 -0.06575636\n",
            "   0.86429656 -0.43688053 -0.39411222 -0.98407974  0.98407974 -0.65801073\n",
            "  -0.45767615 -0.7667743   2.34020354]\n",
            " [ 1.58216271  3.04319637 -0.2389468   1.50118442 -0.63153084  0.84068236\n",
            "  -0.84034336 -0.01399046 -0.72388421  0.72388421 -0.38411064 -0.06575636\n",
            "  -1.15701027  2.28895527 -0.39411222  1.01617781 -1.01617781 -0.65801073\n",
            "  -0.45767615  1.30416474 -0.42731326]]\n"
          ]
        }
      ]
    },
    {
      "cell_type": "markdown",
      "metadata": {
        "id": "b7m10fG3gJQ_"
      },
      "source": [
        "## Splitting the Data into Train and Test Sets\n"
      ]
    },
    {
      "cell_type": "code",
      "execution_count": 34,
      "metadata": {
        "id": "759tkQBLgJQ_"
      },
      "outputs": [],
      "source": [
        "# Split data into train and test sets\n",
        "X_train, X_test, y_train, y_test = train_test_split(X, y, test_size=0.3, random_state=42)"
      ]
    },
    {
      "cell_type": "code",
      "source": [
        "# Display shapes of the training and testing sets\n",
        "print(\"Training Set Shape:\", X_train.shape)\n",
        "print(\"Testing Set Shape:\", X_test.shape)"
      ],
      "metadata": {
        "colab": {
          "base_uri": "https://localhost:8080/"
        },
        "id": "JkY8Bvv4xa7T",
        "outputId": "93f592b5-3184-4ca9-c107-d6406c2c5c9a"
      },
      "execution_count": 35,
      "outputs": [
        {
          "output_type": "stream",
          "name": "stdout",
          "text": [
            "Training Set Shape: (3577, 21)\n",
            "Testing Set Shape: (1533, 21)\n"
          ]
        }
      ]
    },
    {
      "cell_type": "markdown",
      "metadata": {
        "id": "swCKl9Y9gJRA"
      },
      "source": [
        "## Initializing Classification Models"
      ]
    },
    {
      "cell_type": "code",
      "source": [
        "lr = LogisticRegression(random_state=42)\n",
        "nb = GaussianNB()\n",
        "knn = KNeighborsClassifier()\n",
        "dt = DecisionTreeClassifier(random_state=42)\n",
        "svc = SVC(random_state=42, kernel='linear')"
      ],
      "metadata": {
        "id": "aRacklN8xlAv"
      },
      "execution_count": 36,
      "outputs": []
    },
    {
      "cell_type": "markdown",
      "source": [
        "## Training and Evaluating Models\n"
      ],
      "metadata": {
        "id": "gO4c34QcxsuE"
      }
    },
    {
      "cell_type": "code",
      "source": [
        "# Initialize an empty list to store results\n",
        "results = []"
      ],
      "metadata": {
        "id": "9JOhzKxxxtim"
      },
      "execution_count": 116,
      "outputs": []
    },
    {
      "cell_type": "code",
      "source": [
        "# Train the model using Linear Regression model\n",
        "lr.fit(X_train, y_train)\n",
        "# Make predictions\n",
        "y_pred_lr = lr.predict(X_test)\n",
        "# Calculate evaluation metrics\n",
        "results.append({\n",
        "    \"Model\": \"Linear Regression\",\n",
        "    \"Accuracy\": accuracy_score(y_test, y_pred_lr),\n",
        "    \"Precision\": precision_score(y_test, y_pred_lr, zero_division=0),\n",
        "    \"Recall\": recall_score(y_test, y_pred_lr, zero_division=0),\n",
        "    \"F1-Score\": f1_score(y_test, y_pred_lr, zero_division=0)\n",
        "})\n",
        "print(\"Linear Regression\")\n",
        "print(\"Classification report\\n\",classification_report(y_test, y_pred_lr))\n",
        "print(\"Confusion matrix\\n\",confusion_matrix(y_test, y_pred_lr))\n",
        "print(\"No. of classes\",lr.classes_)\n",
        "print(\"Weights\",lr.coef_)\n",
        "print(\"Probability\",lr.predict_proba(X_test))\n",
        "print(\"Score\",lr.score(X_test, y_test))"
      ],
      "metadata": {
        "colab": {
          "base_uri": "https://localhost:8080/"
        },
        "id": "aQHKpC5TzJus",
        "outputId": "aed7a7bf-9998-4fab-ce93-335cb3fe3f38"
      },
      "execution_count": 117,
      "outputs": [
        {
          "output_type": "stream",
          "name": "stdout",
          "text": [
            "Linear Regression\n",
            "Classification report\n",
            "               precision    recall  f1-score   support\n",
            "\n",
            "           0       0.94      1.00      0.97      1444\n",
            "           1       1.00      0.01      0.02        89\n",
            "\n",
            "    accuracy                           0.94      1533\n",
            "   macro avg       0.97      0.51      0.50      1533\n",
            "weighted avg       0.95      0.94      0.92      1533\n",
            "\n",
            "Confusion matrix\n",
            " [[1444    0]\n",
            " [  88    1]]\n",
            "No. of classes [0 1]\n",
            "Weights [[ 1.70946036  0.11487059  0.06883888  0.19650122 -0.00843446  0.01133386\n",
            "  -0.01264795  0.04624358  0.08431916 -0.08431916 -0.06864439 -0.09691884\n",
            "  -0.0309015  -0.19262211  0.33792648 -0.02509006  0.02509006  0.02122826\n",
            "  -0.03698259 -0.05747228  0.08855666]]\n",
            "Probability [[0.9957137  0.0042863 ]\n",
            " [0.99499239 0.00500761]\n",
            " [0.99584853 0.00415147]\n",
            " ...\n",
            " [0.99000204 0.00999796]\n",
            " [0.96468215 0.03531785]\n",
            " [0.96351604 0.03648396]]\n",
            "Score 0.9425962165688193\n"
          ]
        }
      ]
    },
    {
      "cell_type": "code",
      "source": [
        "# Train the model using Naive Bayes model\n",
        "nb.fit(X_train, y_train)\n",
        "# Make predictions\n",
        "y_pred_nb = nb.predict(X_test)\n",
        "# Calculate evaluation metrics\n",
        "results.append({\n",
        "    \"Model\": \"Naive Bayes model\",\n",
        "    \"Accuracy\": accuracy_score(y_test, y_pred_nb),\n",
        "    \"Precision\": precision_score(y_test, y_pred_nb, zero_division=0),\n",
        "    \"Recall\": recall_score(y_test, y_pred_nb, zero_division=0),\n",
        "    \"F1-Score\": f1_score(y_test, y_pred_nb, zero_division=0)\n",
        "})\n",
        "print(\"Naive Bayes model\")\n",
        "print(\"Classification report\\n\",classification_report(y_test, y_pred_nb))\n",
        "print(\"Confusion matrix\\n\",confusion_matrix(y_test, y_pred_nb))\n",
        "print(\"Score\",nb.score(X_test,y_test))\n",
        "print(\"Probability\",nb.predict_proba(X_test))"
      ],
      "metadata": {
        "colab": {
          "base_uri": "https://localhost:8080/"
        },
        "id": "fsiAXnAgzb_7",
        "outputId": "fdf44004-93aa-4fac-c96d-f1f16af84caa"
      },
      "execution_count": 118,
      "outputs": [
        {
          "output_type": "stream",
          "name": "stdout",
          "text": [
            "Naive Bayes model\n",
            "Classification report\n",
            "               precision    recall  f1-score   support\n",
            "\n",
            "           0       1.00      0.29      0.45      1444\n",
            "           1       0.08      1.00      0.15        89\n",
            "\n",
            "    accuracy                           0.33      1533\n",
            "   macro avg       0.54      0.65      0.30      1533\n",
            "weighted avg       0.95      0.33      0.43      1533\n",
            "\n",
            "Confusion matrix\n",
            " [[ 422 1022]\n",
            " [   0   89]]\n",
            "Score 0.3333333333333333\n",
            "Probability [[6.46452692e-01 3.53547308e-01]\n",
            " [1.05622547e-03 9.98943775e-01]\n",
            " [1.00000000e+00 1.46643496e-19]\n",
            " ...\n",
            " [1.23451991e-03 9.98765480e-01]\n",
            " [1.39276253e-03 9.98607237e-01]\n",
            " [2.03486273e-04 9.99796514e-01]]\n"
          ]
        }
      ]
    },
    {
      "cell_type": "code",
      "source": [
        "# Train the model using KNN Model\n",
        "knn.fit(X_train, y_train)\n",
        "# Make predictions\n",
        "y_pred_knn = knn.predict(X_test)\n",
        "# Calculate evaluation metrics\n",
        "results.append({\n",
        "    \"Model\": \"KNN Model\",\n",
        "    \"Accuracy\": accuracy_score(y_test, y_pred_knn),\n",
        "    \"Precision\": precision_score(y_test, y_pred_knn, zero_division=0),\n",
        "    \"Recall\": recall_score(y_test, y_pred_knn, zero_division=0),\n",
        "    \"F1-Score\": f1_score(y_test, y_pred_knn, zero_division=0)\n",
        "})\n",
        "print(\"KNN Model\")\n",
        "print(\"Score\",knn.score(X_test, y_test))\n",
        "print(\"Classification report\\n\",classification_report(y_test, y_pred_knn))\n",
        "print(\"Confusion matrix\\n\",confusion_matrix(y_test, y_pred_knn))\n",
        "print(\"Probability\",knn.predict_proba(X_test))"
      ],
      "metadata": {
        "colab": {
          "base_uri": "https://localhost:8080/"
        },
        "id": "w4ibCCk-0itD",
        "outputId": "a68da25d-e95e-4b12-b00c-0a19c90c10ab"
      },
      "execution_count": 119,
      "outputs": [
        {
          "output_type": "stream",
          "name": "stdout",
          "text": [
            "KNN Model\n",
            "Score 0.9419439008480104\n",
            "Classification report\n",
            "               precision    recall  f1-score   support\n",
            "\n",
            "           0       0.94      1.00      0.97      1444\n",
            "           1       0.50      0.03      0.06        89\n",
            "\n",
            "    accuracy                           0.94      1533\n",
            "   macro avg       0.72      0.52      0.52      1533\n",
            "weighted avg       0.92      0.94      0.92      1533\n",
            "\n",
            "Confusion matrix\n",
            " [[1441    3]\n",
            " [  86    3]]\n",
            "Probability [[1. 0.]\n",
            " [1. 0.]\n",
            " [1. 0.]\n",
            " ...\n",
            " [1. 0.]\n",
            " [1. 0.]\n",
            " [1. 0.]]\n"
          ]
        }
      ]
    },
    {
      "cell_type": "code",
      "source": [
        "# Train the model using Decision Tree\n",
        "dt.fit(X_train, y_train)\n",
        "# Make predictions\n",
        "y_pred_dt = dt.predict(X_test)\n",
        "# Calculate evaluation metrics\n",
        "results.append({\n",
        "    \"Model\": \"Decision Tree\",\n",
        "    \"Accuracy\": accuracy_score(y_test, y_pred_dt),\n",
        "    \"Precision\": precision_score(y_test, y_pred_dt, zero_division=0),\n",
        "    \"Recall\": recall_score(y_test, y_pred_dt, zero_division=0),\n",
        "    \"F1-Score\": f1_score(y_test, y_pred_dt, zero_division=0)\n",
        "})\n",
        "print(\"Decision Tree\")\n",
        "print(\"Score\",dt.score(X_test, y_test))\n",
        "print(\"Classification report\\n\",classification_report(y_test, y_pred_dt))\n",
        "print(\"Confusion matrix\\n\",confusion_matrix(y_test, y_pred_dt))\n",
        "print(\"Probability\",dt.predict_proba(X_test))"
      ],
      "metadata": {
        "colab": {
          "base_uri": "https://localhost:8080/"
        },
        "id": "0lsgEjjr06Rb",
        "outputId": "f4f8337f-7d1c-458c-cd3e-e6d19e9ffba1"
      },
      "execution_count": 120,
      "outputs": [
        {
          "output_type": "stream",
          "name": "stdout",
          "text": [
            "Decision Tree\n",
            "Score 0.9054142204827136\n",
            "Classification report\n",
            "               precision    recall  f1-score   support\n",
            "\n",
            "           0       0.95      0.95      0.95      1444\n",
            "           1       0.17      0.16      0.16        89\n",
            "\n",
            "    accuracy                           0.91      1533\n",
            "   macro avg       0.56      0.55      0.56      1533\n",
            "weighted avg       0.90      0.91      0.90      1533\n",
            "\n",
            "Confusion matrix\n",
            " [[1374   70]\n",
            " [  75   14]]\n",
            "Probability [[1. 0.]\n",
            " [1. 0.]\n",
            " [1. 0.]\n",
            " ...\n",
            " [1. 0.]\n",
            " [1. 0.]\n",
            " [1. 0.]]\n"
          ]
        }
      ]
    },
    {
      "cell_type": "code",
      "source": [
        "# Train the model using Support Vector Classifier\n",
        "svc.fit(X_train, y_train)\n",
        "# Make predictions\n",
        "y_pred_svc = svc.predict(X_test)\n",
        "# Calculate evaluation metrics\n",
        "results.append({\n",
        "    \"Model\": \"Support Vector Classifier\",\n",
        "    \"Accuracy\": accuracy_score(y_test, y_pred_svc),\n",
        "    \"Precision\": precision_score(y_test, y_pred_svc, zero_division=0),\n",
        "    \"Recall\": recall_score(y_test, y_pred_svc, zero_division=0),\n",
        "    \"F1-Score\": f1_score(y_test, y_pred_svc, zero_division=0)\n",
        "})\n",
        "print(\"Support Vector Classifier\")\n",
        "print(\"Score\",svc.score(X_test, y_test))\n",
        "print(\"Classification report\\n\",classification_report(y_test, y_pred_svc,zero_division=0))\n",
        "print(\"Confusion matrix\\n\",confusion_matrix(y_test, y_pred_svc))"
      ],
      "metadata": {
        "colab": {
          "base_uri": "https://localhost:8080/"
        },
        "id": "dxbWbm5b1QO6",
        "outputId": "07329816-5063-4aa5-fd6c-b09a351c102d"
      },
      "execution_count": 121,
      "outputs": [
        {
          "output_type": "stream",
          "name": "stdout",
          "text": [
            "Support Vector Classifier\n",
            "Score 0.9419439008480104\n",
            "Classification report\n",
            "               precision    recall  f1-score   support\n",
            "\n",
            "           0       0.94      1.00      0.97      1444\n",
            "           1       0.00      0.00      0.00        89\n",
            "\n",
            "    accuracy                           0.94      1533\n",
            "   macro avg       0.47      0.50      0.49      1533\n",
            "weighted avg       0.89      0.94      0.91      1533\n",
            "\n",
            "Confusion matrix\n",
            " [[1444    0]\n",
            " [  89    0]]\n"
          ]
        }
      ]
    },
    {
      "cell_type": "markdown",
      "metadata": {
        "id": "eEcRGkXhgJRB"
      },
      "source": [
        "## Summarizing Model Performance"
      ]
    },
    {
      "cell_type": "code",
      "source": [
        "# Convert results to a DataFrame\n",
        "results_df = pd.DataFrame(results)"
      ],
      "metadata": {
        "id": "ZYticlKvygrA"
      },
      "execution_count": 122,
      "outputs": []
    },
    {
      "cell_type": "code",
      "source": [
        "# Display the summary\n",
        "print(\"\\nSummary of Model Performance:\")\n",
        "print(results_df)"
      ],
      "metadata": {
        "colab": {
          "base_uri": "https://localhost:8080/"
        },
        "id": "9qB-EYjSyjfx",
        "outputId": "e48576ce-00d2-47b0-c209-6343a3492603"
      },
      "execution_count": 123,
      "outputs": [
        {
          "output_type": "stream",
          "name": "stdout",
          "text": [
            "\n",
            "Summary of Model Performance:\n",
            "                       Model  Accuracy  Precision    Recall  F1-Score\n",
            "0          Linear Regression  0.942596   1.000000  0.011236  0.022222\n",
            "1          Naive Bayes model  0.333333   0.080108  1.000000  0.148333\n",
            "2                  KNN Model  0.941944   0.500000  0.033708  0.063158\n",
            "3              Decision Tree  0.905414   0.166667  0.157303  0.161850\n",
            "4  Support Vector Classifier  0.941944   0.000000  0.000000  0.000000\n"
          ]
        }
      ]
    },
    {
      "cell_type": "markdown",
      "source": [
        "## Visualizing Model Performance"
      ],
      "metadata": {
        "id": "wJoGRMiWynsd"
      }
    },
    {
      "cell_type": "code",
      "source": [
        "# Plot model performance\n",
        "results_df.set_index('Model').plot(kind='bar', figsize=(10, 6))\n",
        "plt.title(\"Model Performance Metrics\")\n",
        "plt.ylabel(\"Score\")\n",
        "plt.xlabel(\"Model\")\n",
        "plt.show()"
      ],
      "metadata": {
        "colab": {
          "base_uri": "https://localhost:8080/",
          "height": 722
        },
        "id": "EO3UHjtIypY5",
        "outputId": "5d04061a-3b0d-4396-8dee-b81532e0e3d1"
      },
      "execution_count": 124,
      "outputs": [
        {
          "output_type": "display_data",
          "data": {
            "text/plain": [
              "<Figure size 1000x600 with 1 Axes>"
            ],
            "image/png": "[encoded data removed]"
          },
          "metadata": {}
        }
      ]
    }
  ],
  "metadata": {
    "kernelspec": {
      "display_name": "Python 3",
      "language": "python",
      "name": "python3"
    },
    "language_info": {
      "codemirror_mode": {
        "name": "ipython",
        "version": 3
      },
      "file_extension": ".py",
      "mimetype": "text/x-python",
      "name": "python",
      "nbconvert_exporter": "python",
      "pygments_lexer": "ipython3",
      "version": "3.8.5"
    },
    "colab": {
      "provenance": [],
      "include_colab_link": true
    }
  },
  "nbformat": 4,
  "nbformat_minor": 0
}