{
  "nbformat": 4,
  "nbformat_minor": 0,
  "metadata": {
    "colab": {
      "provenance": [],
      "collapsed_sections": [
        "We00VAZb-aFO",
        "h0AZM5ewB5jJ",
        "YgItZJIjCZCp",
        "BgeRPoS9CfEc",
        "HNRbj1BrCjtI",
        "Q8XV1yhRDTAw",
        "PKxm1MpiDpdi",
        "hsNGy45MD_Ek",
        "sOdr3qHWE05j"
      ],
      "authorship_tag": "ABX9TyPd49aXbS7MMA/lf79sjJyj",
      "include_colab_link": true
    },
    "kernelspec": {
      "name": "python3",
      "display_name": "Python 3"
    },
    "language_info": {
      "name": "python"
    }
  },
  "cells": [
    {
      "cell_type": "markdown",
      "metadata": {
        "id": "view-in-github",
        "colab_type": "text"
      },
      "source": [
        "<a href=\"https://colab.research.google.com/github/pspvv/ML_Workshop/blob/main/Assignment_1.ipynb\" target=\"_parent\"><img src=\"https://colab.research.google.com/assets/colab-badge.svg\" alt=\"Open In Colab\"/></a>"
      ]
    },
    {
      "cell_type": "markdown",
      "source": [
        "#Practical Machine Learning Assignment-1"
      ],
      "metadata": {
        "id": "GK-7zU0J-JMC"
      }
    },
    {
      "cell_type": "code",
      "source": [
        "import numpy as np"
      ],
      "metadata": {
        "id": "CT_WC7be-sWs"
      },
      "execution_count": null,
      "outputs": []
    },
    {
      "cell_type": "markdown",
      "source": [
        "####1. Perform arithmetic operations on NumPy arrays"
      ],
      "metadata": {
        "id": "We00VAZb-aFO"
      }
    },
    {
      "cell_type": "code",
      "execution_count": null,
      "metadata": {
        "colab": {
          "base_uri": "https://localhost:8080/"
        },
        "id": "mk4BBkjn9wn6",
        "outputId": "581b7877-e8be-4611-aa2d-48714fff4017"
      },
      "outputs": [
        {
          "output_type": "stream",
          "name": "stdout",
          "text": [
            "Addition [20 25 50 55 80]\n",
            "Subtraction [ 0 15 10 25 20]\n",
            "Multiplication [ 100  100  600  600 1500]\n",
            "Division [1.         4.         1.5        2.66666667 1.66666667]\n",
            "Dot product of a and square root of c 850.0\n"
          ]
        }
      ],
      "source": [
        "a=np.array([10,20,30,40,50])\n",
        "b=np.array([10,5,20,15,30])\n",
        "c=np.array([9,16,25,36,49])\n",
        "print(\"Addition\",np.add(a,b))\n",
        "print(\"Subtraction\",a-b)\n",
        "print(\"Multiplication\",a*b)\n",
        "print(\"Division\",np.divide(a,b))\n",
        "print(\"Dot product of a and square root of c\",a@np.sqrt(c))"
      ]
    },
    {
      "cell_type": "markdown",
      "source": [
        "####2. Write a script to compute the mean and standard deviation of a NumPy array."
      ],
      "metadata": {
        "id": "h0AZM5ewB5jJ"
      }
    },
    {
      "cell_type": "code",
      "source": [
        "a=np.array([1,3,5,2,4,6,11,14])\n",
        "print(\"Mean\",np.mean(a))\n",
        "print(\"Standard deviation\",np.std(a))"
      ],
      "metadata": {
        "colab": {
          "base_uri": "https://localhost:8080/"
        },
        "id": "HSj4hF5kCD6w",
        "outputId": "bd1e0803-7b38-4fee-d13b-2f6e85c9a389"
      },
      "execution_count": null,
      "outputs": [
        {
          "output_type": "stream",
          "name": "stdout",
          "text": [
            "Mean 5.75\n",
            "Standard deviation 4.235268586524354\n"
          ]
        }
      ]
    },
    {
      "cell_type": "markdown",
      "source": [
        "####3. Create a NumPy array of integers from 10 to 50 with a step size of 5"
      ],
      "metadata": {
        "id": "YgItZJIjCZCp"
      }
    },
    {
      "cell_type": "code",
      "source": [
        "arr=np.arange(10,51,5)\n",
        "print(arr)"
      ],
      "metadata": {
        "colab": {
          "base_uri": "https://localhost:8080/"
        },
        "id": "5NtNA0XICdye",
        "outputId": "c3826f3d-afc6-459c-cc14-73efb0bc2d11"
      },
      "execution_count": null,
      "outputs": [
        {
          "output_type": "stream",
          "name": "stdout",
          "text": [
            "[10 15 20 25 30 35 40 45 50]\n"
          ]
        }
      ]
    },
    {
      "cell_type": "markdown",
      "source": [
        "####4. Reshape the array into a 2x4 matrix."
      ],
      "metadata": {
        "id": "BgeRPoS9CfEc"
      }
    },
    {
      "cell_type": "code",
      "source": [
        "res_arr=a.reshape(2,4)\n",
        "print(res_arr)"
      ],
      "metadata": {
        "colab": {
          "base_uri": "https://localhost:8080/"
        },
        "id": "z0_uflGUChzY",
        "outputId": "36114c14-fba1-450c-9040-64ebd7ca1421"
      },
      "execution_count": null,
      "outputs": [
        {
          "output_type": "stream",
          "name": "stdout",
          "text": [
            "[[ 1  3  5  2]\n",
            " [ 4  6 11 14]]\n"
          ]
        }
      ]
    },
    {
      "cell_type": "markdown",
      "source": [
        "####5. Given the array arr = np.array([[1, 2, 3], [4, 5, 6], [7, 8, 9]]):\n",
        "  • Extract the sub-matrix containing the last two rows and first two columns.\n",
        "  \n",
        "  • Replace all elements greater than 4 with 0."
      ],
      "metadata": {
        "id": "HNRbj1BrCjtI"
      }
    },
    {
      "cell_type": "code",
      "source": [
        "arr=np.array([[1,2,3],[4,5,6],[7,8,9]])\n",
        "print(\"Extracted array\",arr[1:,:2])\n",
        "arr[arr>4]=0\n",
        "print(\"Array after replacing\",arr)"
      ],
      "metadata": {
        "colab": {
          "base_uri": "https://localhost:8080/"
        },
        "id": "Wjpaw2zfCnuI",
        "outputId": "b7822040-2a16-435c-de56-a01adab2215e"
      },
      "execution_count": null,
      "outputs": [
        {
          "output_type": "stream",
          "name": "stdout",
          "text": [
            "Extracted array [[4 5]\n",
            " [7 8]]\n",
            "Array after replacing [[1 2 3]\n",
            " [4 0 0]\n",
            " [0 0 0]]\n"
          ]
        }
      ]
    },
    {
      "cell_type": "markdown",
      "source": [
        "####6. Create two 1D arrays:\n",
        "• a = np.array([1, 2, 3])\n",
        "\n",
        "• b = np.array([4, 5, 6])\n",
        "\n",
        "• Perform element-wise addition, multiplication, and division"
      ],
      "metadata": {
        "id": "Q8XV1yhRDTAw"
      }
    },
    {
      "cell_type": "code",
      "source": [
        "a=np.array([13,25,30])\n",
        "print(\"Addition\",a+5)\n",
        "print(\"Multiplication\",a*7)\n",
        "print(\"Division\",a/10)"
      ],
      "metadata": {
        "colab": {
          "base_uri": "https://localhost:8080/"
        },
        "id": "HvB-nAo6DfCy",
        "outputId": "1231d79a-09e7-433b-c807-c8fabaedb868"
      },
      "execution_count": null,
      "outputs": [
        {
          "output_type": "stream",
          "name": "stdout",
          "text": [
            "Addition [18 30 35]\n",
            "Multiplication [ 91 175 210]\n",
            "Division [1.3 2.5 3. ]\n"
          ]
        }
      ]
    },
    {
      "cell_type": "markdown",
      "source": [
        "####7. Create a random NumPy array of size (4, 4). Compute:\n",
        "• Mean of each column.\n",
        "\n",
        "• Maximum value of the entire array.\n",
        "\n",
        "• Sum of all elements."
      ],
      "metadata": {
        "id": "PKxm1MpiDpdi"
      }
    },
    {
      "cell_type": "code",
      "source": [
        "e=np.random.random((4,4))\n",
        "print(e)\n",
        "print(\"Meaan of each ccoolumn\",np.mean(e,axis=0))\n",
        "print(\"Maximum value of array\",np.max(e))\n",
        "print(\"Sum of all elements\",np.sum(e))"
      ],
      "metadata": {
        "colab": {
          "base_uri": "https://localhost:8080/"
        },
        "id": "smuZ0nJZDs6-",
        "outputId": "28dfdb8a-4901-4fd4-d186-2c4b08556fc4"
      },
      "execution_count": null,
      "outputs": [
        {
          "output_type": "stream",
          "name": "stdout",
          "text": [
            "[[0.15836173 0.7465512  0.50933819 0.61579428]\n",
            " [0.52509042 0.18800302 0.65881757 0.07393939]\n",
            " [0.69647593 0.73510204 0.12197442 0.62889118]\n",
            " [0.83790669 0.43465756 0.63706105 0.5564147 ]]\n",
            "Meaan of each ccoolumn [0.55445869 0.52607846 0.48179781 0.46875989]\n",
            "Maximum value of array 0.8379066907344331\n",
            "Sum of all elements 8.124379382187037\n"
          ]
        }
      ]
    },
    {
      "cell_type": "markdown",
      "source": [
        "####8. Given the array arr = np.array([1, 2, 3, 4]), add 10 to each element and multiply the result by 2."
      ],
      "metadata": {
        "id": "hsNGy45MD_Ek"
      }
    },
    {
      "cell_type": "code",
      "source": [
        "arr=np.array([1,2,3,4])\n",
        "print((arr+10)*2)"
      ],
      "metadata": {
        "colab": {
          "base_uri": "https://localhost:8080/"
        },
        "id": "SLh6zConEud_",
        "outputId": "1961da1c-2c7d-4f50-e112-6bc10c1eab31"
      },
      "execution_count": null,
      "outputs": [
        {
          "output_type": "stream",
          "name": "stdout",
          "text": [
            "[22 24 26 28]\n"
          ]
        }
      ]
    },
    {
      "cell_type": "markdown",
      "source": [
        "####9. Perform advanced slicing and indexing on a 3D array.\n",
        "Create a 3D NumPy array arr of shape (3, 4, 5) with random integers ranging from\n",
        "1 to 100. Perform the following:\n",
        "\n",
        "• Extract the second \"layer\" (i.e., the second 2D array) in the first dimension.\n",
        "\n",
        "• Extract the first two rows and the last three columns from each \"layer.\"\n",
        "\n",
        "• Replace all elements divisible by 3 with -1."
      ],
      "metadata": {
        "id": "sOdr3qHWE05j"
      }
    },
    {
      "cell_type": "code",
      "source": [
        "a=np.random.randint(1,101,size=(3,4,5))\n",
        "print(\"Second layer\",a[1])#we can also use this:- a[1,:,:]\n",
        "print(\"Sub-array:\",a[:,:2,-3:])\n",
        "a[a%3==0]=-1\n",
        "print(\"Replaced array\",a)"
      ],
      "metadata": {
        "colab": {
          "base_uri": "https://localhost:8080/"
        },
        "id": "msDDaBdjE4XF",
        "outputId": "59c8b7f2-25e3-4c1a-9355-b0ea760e8963"
      },
      "execution_count": null,
      "outputs": [
        {
          "output_type": "stream",
          "name": "stdout",
          "text": [
            "Second layer [[ 65  62  57  48  19]\n",
            " [ 84 100  81  75  33]\n",
            " [ 74  65  41  97  46]\n",
            " [ 80  78  78  69  65]]\n",
            "Sub-array: [[[67 26 48]\n",
            "  [58 83 17]]\n",
            "\n",
            " [[57 48 19]\n",
            "  [81 75 33]]\n",
            "\n",
            " [[16 99 95]\n",
            "  [34  5 53]]]\n",
            "Replaced array [[[ 34  -1  67  26  -1]\n",
            "  [ 53  34  58  83  17]\n",
            "  [ 35  -1  -1  -1  94]\n",
            "  [ -1  98  31  -1  -1]]\n",
            "\n",
            " [[ 65  62  -1  -1  19]\n",
            "  [ -1 100  -1  -1  -1]\n",
            "  [ 74  65  41  97  46]\n",
            "  [ 80  -1  -1  -1  65]]\n",
            "\n",
            " [[ -1  80  16  -1  95]\n",
            "  [ -1  28  34   5  53]\n",
            "  [ -1  -1  95  -1  64]\n",
            "  [ 58   8  73  10  -1]]]\n"
          ]
        }
      ]
    },
    {
      "cell_type": "markdown",
      "source": [
        "####10. Work with broadcasting and advanced operations in NumPy.\n",
        "Create a NumPy array arr of shape (3, 3) with random integers between\n",
        "1 and 20. Perform the following:\n",
        "\n",
        "• Subtract the mean of each row from its respective elements (row-wise\n",
        "normalization).\n",
        "\n",
        "• Create a new array by squaring all the elements in arr.\n",
        "\n",
        "• Find the indices of the top 3 maximum values in the entire array."
      ],
      "metadata": {
        "id": "9D99VDE0E5vb"
      }
    },
    {
      "cell_type": "code",
      "source": [
        "arr=np.random.randint(1,21,size=(3,3))\n",
        "print(\"Random array\",arr)\n",
        "print(\"Normalized array\",arr-arr.mean(axis=1,keepdims=True))\n",
        "sqarr=arr**2\n",
        "print(\"squared array\",sqarr)\n",
        "flat_arr = arr.flatten()\n",
        "top_3_indices = np.argpartition(flat_arr, -3)[-3:]\n",
        "row_indices, col_indices = np.unravel_index(top_3_indices, arr.shape)\n",
        "print(\"Indices of top 3 maximum values:\")\n",
        "for i in range(3):\n",
        "    print(f\"Value: {arr[row_indices[i]][col_indices[i]]}, Index: ({row_indices[i]}, {col_indices[i]})\")"
      ],
      "metadata": {
        "colab": {
          "base_uri": "https://localhost:8080/"
        },
        "id": "IyGCyIbAE-6l",
        "outputId": "ad7be1cd-ccae-4f9f-92de-3ab71f0bf80b"
      },
      "execution_count": null,
      "outputs": [
        {
          "output_type": "stream",
          "name": "stdout",
          "text": [
            "Random array [[14 18  5]\n",
            " [18  4 16]\n",
            " [ 2  9 15]]\n",
            "Normalized array [[ 2  6 -7]\n",
            " [ 6 -8  4]\n",
            " [-6  1  7]]\n",
            "squared array [[196 324  25]\n",
            " [324  16 256]\n",
            " [  4  81 225]]\n",
            "Indices of top 3 maximum values:\n",
            "Value: 16, Index: (1, 2)\n",
            "Value: 18, Index: (1, 0)\n",
            "Value: 18, Index: (0, 1)\n"
          ]
        }
      ]
    }
  ]
}